{
  "nbformat": 4,
  "nbformat_minor": 0,
  "metadata": {
    "colab": {
      "name": "Untitled0.ipynb",
      "version": "0.3.2",
      "provenance": [],
      "collapsed_sections": [],
      "include_colab_link": true
    },
    "kernelspec": {
      "name": "python3",
      "display_name": "Python 3"
    }
  },
  "cells": [
    {
      "cell_type": "markdown",
      "metadata": {
        "id": "view-in-github",
        "colab_type": "text"
      },
      "source": [
        "<a href=\"https://colab.research.google.com/github/mhamed-kassem/problem-solving-/blob/master/Untitled0.ipynb\" target=\"_parent\"><img src=\"https://colab.research.google.com/assets/colab-badge.svg\" alt=\"Open In Colab\"/></a>"
      ]
    },
    {
      "metadata": {
        "id": "qrL11ib5LcRb",
        "colab_type": "code",
        "colab": {}
      },
      "cell_type": "code",
      "source": [
        "from google.colab import drive\n",
        "drive.mount('/content/drive',force_remount=True)"
      ],
      "execution_count": 0,
      "outputs": []
    },
    {
      "metadata": {
        "id": "Znlh0nt_LppO",
        "colab_type": "code",
        "colab": {}
      },
      "cell_type": "code",
      "source": [
        "import os\n",
        "os.chdir('drive/My Drive')"
      ],
      "execution_count": 0,
      "outputs": []
    },
    {
      "metadata": {
        "id": "ay6ZDGnLLFJb",
        "colab_type": "code",
        "colab": {}
      },
      "cell_type": "code",
      "source": [
        "from sklearn.neighbors import KNeighborsClassifier\n",
        "from sklearn.model_selection import train_test_split\n",
        "import matplotlib.pyplot as plt\n",
        "from sklearn.neighbors import KNeighborsClassifier\n",
        "from sklearn.model_selection import train_test_split\n",
        "import matplotlib.pyplot as plt\n",
        "from PIL import Image\n",
        "from keras.preprocessing.image import img_to_array\n",
        "from keras.preprocessing.image import load_img\n",
        "from keras.utils import np_utils\n",
        "import numpy as np \n",
        "import cv2\n",
        "import os\n",
        "\n",
        "\n",
        "\n",
        "\n",
        "\n",
        "\n",
        "\n",
        "parasitized_data = os.listdir('/content/drive/My Drive/cell_images/Parasitized/')\n",
        "\n",
        "uninfected_data = os.listdir('/content/drive/My Drive/cell_images/Uninfected/')\n",
        "data = []\n",
        "labels = []\n",
        "for img in parasitized_data:\n",
        "    try:\n",
        "        img_read = plt.imread('/content/drive/My Drive/cell_images/Parasitized' + \"/\" + img)\n",
        "        img_resize = cv2.resize(img_read, (50, 50))\n",
        "        img_array = img_to_array(img_resize)\n",
        "        data.append(img_array)\n",
        "        labels.append(1)\n",
        "    except:\n",
        "        None\n",
        "        \n",
        "for img in uninfected_data:\n",
        "    try:\n",
        "        img_read = plt.imread('/content/drive/My Drive/cell_images/Uninfected/' + \"/\" + img)\n",
        "        img_resize = cv2.resize(img_read, (50, 50))\n",
        "        img_array = img_to_array(img_resize)\n",
        "        data.append(img_array)\n",
        "        labels.append(0)\n",
        "    except:\n",
        "        None\n",
        "      \n",
        "\n",
        "image_data = np.array(data)\n",
        "labels = np.array(labels)\n",
        "idx = np.arange(image_data.shape[0])\n",
        "np.random.shuffle(idx)\n",
        "image_data = image_data[idx]\n",
        "labels = labels[idx]\n",
        "x_train, x_test, y_train, y_test = train_test_split(image_data, labels, test_size = 0.2, random_state = 101)\n",
        "y_train = np_utils.to_categorical(y_train, num_classes = 2)\n",
        "y_test = np_utils.to_categorical(y_test, num_classes = 2)\n",
        "x_train= x_train.reshape(x_train.shape[0], -1)\n",
        "x_test= x_test.reshape(x_test.shape[0], -1)\n",
        "krange=range(1, 10)\n",
        "train_accuracy=np.empty(len(krange))\n",
        "test_accuracy=np.empty(len(krange))\n",
        "for i,k in enumerate(krange):\n",
        "    knn = KNeighborsClassifier(n_neighbors=k)\n",
        "    knn.fit(x_train, y_train)\n",
        "    #y_pred=knn.predict(x_train)\n",
        "    train_accuracy[i]=(knn.score(x_train, y_train))\n",
        "    test_accuracy[i]=(knn.score(x_test, y_test))\n",
        "    print(train_accuracy[i])\n",
        "plt.title('k-NN: Varying Number of Neighbors')\n",
        "plt.plot(krange,test_accuracy, label = 'Testing Accuracy')\n",
        "plt.plot(krange, train_accuracy, label = 'Training Accuracy')\n",
        "plt.legend()\n",
        "plt.xlabel('Number of Neighbors')\n",
        "plt.ylabel('Accuracy')\n",
        "plt.show()"
      ],
      "execution_count": 0,
      "outputs": []
    }
  ]
}